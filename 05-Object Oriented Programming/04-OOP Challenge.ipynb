{
  "cells": [
    {
      "cell_type": "markdown",
      "metadata": {
        "id": "1buYsPn-Udc7"
      },
      "source": [
        "___\n",
        "\n",
        "<a href='https://www.udemy.com/user/joseportilla/'><img src='https://github.com/MGotelip/Complete-Python-3-Bootcamp/blob/master/Pierian_Data_Logo.png?raw=1'/></a>\n",
        "___\n",
        "<center><em>Content Copyright by Pierian Data</em></center>"
      ]
    },
    {
      "cell_type": "markdown",
      "metadata": {
        "id": "XqphDpTWUddB"
      },
      "source": [
        "# Object Oriented Programming Challenge\n",
        "\n",
        "For this challenge, create a bank account class that has two attributes:\n",
        "\n",
        "* owner\n",
        "* balance\n",
        "\n",
        "and two methods:\n",
        "\n",
        "* deposit\n",
        "* withdraw\n",
        "\n",
        "As an added requirement, withdrawals may not exceed the available balance.\n",
        "\n",
        "Instantiate your class, make several deposits and withdrawals, and test to make sure the account can't be overdrawn."
      ]
    },
    {
      "cell_type": "code",
      "execution_count": 40,
      "metadata": {
        "collapsed": true,
        "id": "vLIw6wVJUddD"
      },
      "outputs": [],
      "source": [
        "class Account:\n",
        "  def __init__(self, owner, balance):\n",
        "    self.owner = owner\n",
        "    self.balance = balance\n",
        "\n",
        "  def deposit(self, amount):\n",
        "    self.balance += amount\n",
        "    print(\"Deposit Accepted. Your new balance is ${}\".format(self.balance))\n",
        "  \n",
        "  def withdraw(self,amount):\n",
        "    if amount > self.balance:\n",
        "      print(\"Your balance is ${} and you want to withdraw ${}. Return the operation\".format(self.balance, amount))\n",
        "    else:\n",
        "      print(\"You withdrew ${}\".format(amount))\n",
        "      self.balance -= amount\n",
        "\n",
        "  def __str__(self):\n",
        "    return f\"Owner is {self.owner} \\nBalance is {self.balance}\""
      ]
    },
    {
      "cell_type": "code",
      "execution_count": 41,
      "metadata": {
        "collapsed": true,
        "id": "6vZof93cUddE"
      },
      "outputs": [],
      "source": [
        "# 1. Instantiate the class\n",
        "acct1 = Account('Jose',100)"
      ]
    },
    {
      "cell_type": "code",
      "execution_count": 42,
      "metadata": {
        "id": "sPtivaTMUddF",
        "outputId": "4b0625b0-d67e-4e97-dd52-da76baeb8817",
        "colab": {
          "base_uri": "https://localhost:8080/"
        }
      },
      "outputs": [
        {
          "output_type": "stream",
          "name": "stdout",
          "text": [
            "Owner is Jose \n",
            "Balance is 100\n"
          ]
        }
      ],
      "source": [
        "# 2. Print the object\n",
        "print(acct1)"
      ]
    },
    {
      "cell_type": "code",
      "execution_count": 28,
      "metadata": {
        "id": "CMGd_HlWUddH",
        "outputId": "81e8d495-26d4-4b25-f492-bbcbe506e141",
        "colab": {
          "base_uri": "https://localhost:8080/",
          "height": 35
        }
      },
      "outputs": [
        {
          "output_type": "execute_result",
          "data": {
            "text/plain": [
              "'Jose'"
            ],
            "application/vnd.google.colaboratory.intrinsic+json": {
              "type": "string"
            }
          },
          "metadata": {},
          "execution_count": 28
        }
      ],
      "source": [
        "# 3. Show the account owner attribute\n",
        "acct1.owner"
      ]
    },
    {
      "cell_type": "code",
      "execution_count": 32,
      "metadata": {
        "id": "bW7vslUmUddI",
        "outputId": "d56067da-562d-46a8-c4a8-fcb1992f7619",
        "colab": {
          "base_uri": "https://localhost:8080/"
        }
      },
      "outputs": [
        {
          "output_type": "execute_result",
          "data": {
            "text/plain": [
              "0"
            ]
          },
          "metadata": {},
          "execution_count": 32
        }
      ],
      "source": [
        "# 4. Show the account balance attribute\n",
        "acct1.balance"
      ]
    },
    {
      "cell_type": "code",
      "execution_count": 25,
      "metadata": {
        "id": "8daCHZRCUddT",
        "outputId": "36d95dc7-14fe-410c-896f-a3a5ec75f6fc",
        "colab": {
          "base_uri": "https://localhost:8080/"
        }
      },
      "outputs": [
        {
          "output_type": "stream",
          "name": "stdout",
          "text": [
            "Deposit Accepted. Your new balance is 150\n"
          ]
        }
      ],
      "source": [
        "# 5. Make a series of deposits and withdrawals\n",
        "acct1.deposit(50)"
      ]
    },
    {
      "cell_type": "code",
      "execution_count": null,
      "metadata": {
        "id": "OE71yohQUddV",
        "outputId": "051cc4b6-99ec-4780-9636-332027daaa5e"
      },
      "outputs": [
        {
          "name": "stdout",
          "output_type": "stream",
          "text": [
            "Withdrawal Accepted\n"
          ]
        }
      ],
      "source": [
        "acct1.withdraw(75)"
      ]
    },
    {
      "cell_type": "code",
      "execution_count": 33,
      "metadata": {
        "id": "JFz2VEeUUddW",
        "outputId": "72dac845-1453-4a85-c350-77e7c912c710",
        "colab": {
          "base_uri": "https://localhost:8080/"
        }
      },
      "outputs": [
        {
          "output_type": "stream",
          "name": "stdout",
          "text": [
            "Your balance is 0 and you want to withdraw 100. Return the operation\n"
          ]
        }
      ],
      "source": [
        "# 6. Make a withdrawal that exceeds the available balance\n",
        "acct1.withdraw(100)"
      ]
    },
    {
      "cell_type": "markdown",
      "metadata": {
        "id": "VaZc2Cp6UddX"
      },
      "source": [
        "## Good job!"
      ]
    }
  ],
  "metadata": {
    "kernelspec": {
      "display_name": "Python 3",
      "language": "python",
      "name": "python3"
    },
    "language_info": {
      "codemirror_mode": {
        "name": "ipython",
        "version": 3
      },
      "file_extension": ".py",
      "mimetype": "text/x-python",
      "name": "python",
      "nbconvert_exporter": "python",
      "pygments_lexer": "ipython3",
      "version": "3.6.6"
    },
    "colab": {
      "provenance": []
    }
  },
  "nbformat": 4,
  "nbformat_minor": 0
}