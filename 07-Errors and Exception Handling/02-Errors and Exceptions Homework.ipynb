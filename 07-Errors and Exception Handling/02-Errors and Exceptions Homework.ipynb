{
  "cells": [
    {
      "cell_type": "markdown",
      "metadata": {
        "id": "m_YXb9_0nxRK"
      },
      "source": [
        "___\n",
        "\n",
        "<a href='https://www.udemy.com/user/joseportilla/'><img src='https://github.com/MGotelip/Complete-Python-3-Bootcamp/blob/master/Pierian_Data_Logo.png?raw=1'/></a>\n",
        "___\n",
        "<center><em>Content Copyright by Pierian Data</em></center>"
      ]
    },
    {
      "cell_type": "markdown",
      "metadata": {
        "id": "oxAYaFHhnxRR"
      },
      "source": [
        "# Errors and Exceptions Homework"
      ]
    },
    {
      "cell_type": "markdown",
      "metadata": {
        "id": "zaT_Ud8vnxRU"
      },
      "source": [
        "### Problem 1\n",
        "Handle the exception thrown by the code below by using <code>try</code> and <code>except</code> blocks."
      ]
    },
    {
      "cell_type": "code",
      "execution_count": 2,
      "metadata": {
        "id": "vvDULZssnxRW",
        "outputId": "0ab6059d-7512-40c6-92c5-bf8f61093f18",
        "colab": {
          "base_uri": "https://localhost:8080/"
        }
      },
      "outputs": [
        {
          "output_type": "stream",
          "name": "stdout",
          "text": [
            "There was a TypeError\n"
          ]
        }
      ],
      "source": [
        "try:\n",
        "  for i in ['a','b','c']:\n",
        "      print(i**2)\n",
        "except TypeError:\n",
        "  print(\"There was a TypeError!\")"
      ]
    },
    {
      "cell_type": "markdown",
      "metadata": {
        "id": "qCXAusaZnxRZ"
      },
      "source": [
        "### Problem 2\n",
        "Handle the exception thrown by the code below by using <code>try</code> and <code>except</code> blocks. Then use a <code>finally</code> block to print 'All Done.'"
      ]
    },
    {
      "cell_type": "code",
      "execution_count": 4,
      "metadata": {
        "id": "GoRM5mMynxRa",
        "outputId": "9fe94c71-c0d0-418c-e55e-cc23faa4c813",
        "colab": {
          "base_uri": "https://localhost:8080/"
        }
      },
      "outputs": [
        {
          "output_type": "stream",
          "name": "stdout",
          "text": [
            "There was a division by zero\n",
            "All Done\n"
          ]
        }
      ],
      "source": [
        "x = 5\n",
        "y = 0\n",
        "\n",
        "try:  \n",
        "  z = x/y\n",
        "except ZeroDivisionError:\n",
        "  print(\"There was a division by zero\")\n",
        "finally:\n",
        "  print(\"All Done\")"
      ]
    },
    {
      "cell_type": "markdown",
      "metadata": {
        "id": "p40hFawCnxRc"
      },
      "source": [
        "### Problem 3\n",
        "Write a function that asks for an integer and prints the square of it. Use a <code>while</code> loop with a <code>try</code>, <code>except</code>, <code>else</code> block to account for incorrect inputs."
      ]
    },
    {
      "cell_type": "code",
      "execution_count": 9,
      "metadata": {
        "collapsed": true,
        "id": "qEDECVeenxRe"
      },
      "outputs": [],
      "source": [
        "def ask():\n",
        "  while True:\n",
        "    try:\n",
        "      num = int(input(\"Write a number:\"))\n",
        "      num_sqd = num**2\n",
        "    except:\n",
        "      print(\"You must put a valid number\")\n",
        "    else:\n",
        "      print(\"Thank you! The number squared is {}\".format(num_sqd))\n",
        "      break"
      ]
    },
    {
      "cell_type": "code",
      "execution_count": 8,
      "metadata": {
        "id": "_bafo6-znxRf",
        "outputId": "86cee461-e13d-43f8-fb09-ea1340744de4",
        "colab": {
          "base_uri": "https://localhost:8080/"
        }
      },
      "outputs": [
        {
          "output_type": "stream",
          "name": "stdout",
          "text": [
            "Write a number:s\n",
            "You must put a valid number\n",
            "Write a number:sd\n",
            "You must put a valid number\n",
            "Write a number:12\n",
            "Thank you, the number squared is 144\n"
          ]
        }
      ],
      "source": [
        "ask()"
      ]
    },
    {
      "cell_type": "markdown",
      "metadata": {
        "id": "LkyhTXsynxRh"
      },
      "source": [
        "# Great Job!"
      ]
    }
  ],
  "metadata": {
    "kernelspec": {
      "display_name": "Python 3",
      "language": "python",
      "name": "python3"
    },
    "language_info": {
      "codemirror_mode": {
        "name": "ipython",
        "version": 3
      },
      "file_extension": ".py",
      "mimetype": "text/x-python",
      "name": "python",
      "nbconvert_exporter": "python",
      "pygments_lexer": "ipython3",
      "version": "3.6.6"
    },
    "colab": {
      "provenance": []
    }
  },
  "nbformat": 4,
  "nbformat_minor": 0
}