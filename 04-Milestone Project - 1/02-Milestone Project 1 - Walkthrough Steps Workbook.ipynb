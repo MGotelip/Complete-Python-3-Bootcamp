{
  "cells": [
    {
      "cell_type": "markdown",
      "metadata": {
        "id": "Ey3E91xOAUgZ"
      },
      "source": [
        "___\n",
        "\n",
        "<a href='https://www.udemy.com/user/joseportilla/'><img src='https://github.com/MGotelip/Complete-Python-3-Bootcamp/blob/master/Pierian_Data_Logo.png?raw=1'/></a>\n",
        "___\n",
        "<center><em>Content Copyright by Pierian Data</em></center>"
      ]
    },
    {
      "cell_type": "markdown",
      "metadata": {
        "id": "zaRApaDJAUgg"
      },
      "source": [
        "# Milestone Project 1: Walkthrough Steps Workbook\n",
        "\n",
        "Below is a set of steps for you to follow to try to create the Tic Tac Toe Milestone Project game!"
      ]
    },
    {
      "cell_type": "markdown",
      "metadata": {
        "id": "lCINFK9vAUgk"
      },
      "source": [
        "#### Some suggested tools before you get started:\n",
        "To take input from a user:\n",
        "\n",
        "    player1 = input(\"Please pick a marker 'X' or 'O'\")\n",
        "    \n",
        "Note that input() takes in a string. If you need an integer value, use\n",
        "\n",
        "    position = int(input('Please enter a number'))\n",
        "    \n",
        "<br>To clear the screen between moves:\n",
        "\n",
        "    from IPython.display import clear_output\n",
        "    clear_output()\n",
        "    \n",
        "Note that clear_output() will only work in jupyter. To clear the screen in other IDEs, consider:\n",
        "\n",
        "    print('\\n'*100)\n",
        "    \n",
        "This scrolls the previous board up out of view. Now on to the program!"
      ]
    },
    {
      "cell_type": "markdown",
      "metadata": {
        "id": "B_iW5KC5AUgm"
      },
      "source": [
        "**Step 1: Write a function that can print out a board. Set up your board as a list, where each index 1-9 corresponds with a number on a number pad, so you get a 3 by 3 board representation.**"
      ]
    },
    {
      "cell_type": "code",
      "execution_count": 86,
      "metadata": {
        "collapsed": true,
        "id": "b6CYskyvAUgo"
      },
      "outputs": [],
      "source": [
        "from IPython.display import clear_output\n",
        "\n",
        "def display_board(board):\n",
        "\n",
        "  clear_output()\n",
        "  print(board[7]+'|'+board[8]+'|'+board[9])\n",
        "  print(board[4]+'|'+board[5]+'|'+board[6])    \n",
        "  print(board[1]+'|'+board[2]+'|'+board[3])\n",
        "\n",
        "\n",
        "def reset_board():\n",
        "  board = ['#', ' ', ' ', ' ', ' ', ' ', ' ', ' ', ' ', ' ']\n",
        "  return board"
      ]
    },
    {
      "cell_type": "markdown",
      "metadata": {
        "id": "TMo4SwNGAUgr"
      },
      "source": [
        "**TEST Step 1:** run your function on a test version of the board list, and make adjustments as necessary"
      ]
    },
    {
      "cell_type": "code",
      "execution_count": 5,
      "metadata": {
        "collapsed": true,
        "colab": {
          "base_uri": "https://localhost:8080/"
        },
        "id": "RLX4QsN1AUgt",
        "outputId": "33e383ae-aee4-4601-9ef8-98868b49591c"
      },
      "outputs": [
        {
          "output_type": "stream",
          "name": "stdout",
          "text": [
            "X|O|X\n",
            "O|X|O\n",
            "X|O|X\n"
          ]
        }
      ],
      "source": [
        "test_board = ['#','X','O','X','O','X','O','X','O','X']\n",
        "display_board(test_board)"
      ]
    },
    {
      "cell_type": "markdown",
      "metadata": {
        "id": "kAT7NlXjAUgt"
      },
      "source": [
        "**Step 2: Write a function that can take in a player input and assign their marker as 'X' or 'O'. Think about using *while* loops to continually ask until you get a correct answer.**"
      ]
    },
    {
      "cell_type": "code",
      "execution_count": 14,
      "metadata": {
        "collapsed": true,
        "id": "1RVDU8ZcAUgv"
      },
      "outputs": [],
      "source": [
        "def player_input():\n",
        "  \n",
        "  marker = False\n",
        "\n",
        "  while marker != 'X' and marker != 'O':\n",
        "    marker = input('Player 1 choose \"X\" or \"O\":')\n",
        "  \n",
        "  player1_out = marker\n",
        "  if player1_out == 'X':\n",
        "    player2_out = 'O'\n",
        "  else:\n",
        "    player2_out = 'X'\n",
        "\n",
        "  return (player1_out, player2_out)"
      ]
    },
    {
      "cell_type": "markdown",
      "metadata": {
        "id": "x1zRcq-JAUgy"
      },
      "source": [
        "**TEST Step 2:** run the function to make sure it returns the desired output"
      ]
    },
    {
      "cell_type": "code",
      "execution_count": 16,
      "metadata": {
        "collapsed": true,
        "colab": {
          "base_uri": "https://localhost:8080/"
        },
        "id": "7yTe4cdSAUgz",
        "outputId": "7bc57aed-356c-4d72-8536-b29615929cde"
      },
      "outputs": [
        {
          "name": "stdout",
          "output_type": "stream",
          "text": [
            "Player 1 choose \"X\" or \"O\":O\n"
          ]
        }
      ],
      "source": [
        "player1, player2 = player_input()"
      ]
    },
    {
      "cell_type": "markdown",
      "metadata": {
        "id": "_v0sXK-ZAUg0"
      },
      "source": [
        "**Step 3: Write a function that takes in the board list object, a marker ('X' or 'O'), and a desired position (number 1-9) and assigns it to the board.**"
      ]
    },
    {
      "cell_type": "code",
      "execution_count": 36,
      "metadata": {
        "collapsed": true,
        "id": "eYy6s47oAUg1"
      },
      "outputs": [],
      "source": [
        "def place_marker(board, marker, position):\n",
        "  pos = False\n",
        "  \n",
        "  while pos != True:\n",
        "    clear_output()\n",
        "    display_board(board)\n",
        "    if board[position] != ' ':\n",
        "      print('This position is already taken!')\n",
        "      position = int(input('Choose a new position (1-9):'))\n",
        "    else:\n",
        "      board[position] = marker\n",
        "      pos = True"
      ]
    },
    {
      "cell_type": "markdown",
      "metadata": {
        "id": "u7jLAGpEAUg2"
      },
      "source": [
        "**TEST Step 3:** run the place marker function using test parameters and display the modified board"
      ]
    },
    {
      "cell_type": "code",
      "source": [
        "test_board = ['#',' ','O','X','O','X','O','X','O','X']\n",
        "place_marker(test_board, 'O', 4)\n",
        "display_board(test_board)"
      ],
      "metadata": {
        "id": "MC0LZ2DxF4s-"
      },
      "execution_count": null,
      "outputs": []
    },
    {
      "cell_type": "markdown",
      "metadata": {
        "id": "b9W4apjsAUg3"
      },
      "source": [
        "**Step 4: Write a function that takes in a board and a mark (X or O) and then checks to see if that mark has won.**"
      ]
    },
    {
      "cell_type": "code",
      "execution_count": 43,
      "metadata": {
        "collapsed": true,
        "id": "f9nWHoFLAUg3"
      },
      "outputs": [],
      "source": [
        "def win_check(board, mark):\n",
        "  win = False\n",
        "\n",
        "  for i in [1, 4, 7]:\n",
        "    if board[i] == board[i+1] == board[i+2] == mark:\n",
        "      win = mark\n",
        "  if board[1] == board[5] == board[9] == mark:\n",
        "    win = mark\n",
        "  if board[7] == board[5] == board[3] == mark:      \n",
        "    win = mark\n",
        "\n",
        "  return win  "
      ]
    },
    {
      "cell_type": "markdown",
      "metadata": {
        "id": "8mkcZOvlAUg4"
      },
      "source": [
        "**TEST Step 4:** run the win_check function against our test_board - it should return True"
      ]
    },
    {
      "cell_type": "code",
      "execution_count": 49,
      "metadata": {
        "collapsed": true,
        "colab": {
          "base_uri": "https://localhost:8080/"
        },
        "id": "Tk2Ion1xAUg4",
        "outputId": "6b2192fc-da23-4add-a270-000718f379c5"
      },
      "outputs": [
        {
          "output_type": "stream",
          "name": "stdout",
          "text": [
            "X|O|X\n",
            "O|X|O\n",
            "O|O|O\n"
          ]
        },
        {
          "output_type": "execute_result",
          "data": {
            "text/plain": [
              "False"
            ]
          },
          "metadata": {},
          "execution_count": 49
        }
      ],
      "source": [
        "test_board = ['#','O','O','O','O','X','O','X','O','X']\n",
        "display_board(test_board)\n",
        "win_check(test_board,'X')"
      ]
    },
    {
      "cell_type": "markdown",
      "metadata": {
        "id": "RiBFfGS3AUg5"
      },
      "source": [
        "**Step 5: Write a function that uses the random module to randomly decide which player goes first. You may want to lookup random.randint() Return a string of which player went first.**"
      ]
    },
    {
      "cell_type": "code",
      "execution_count": 53,
      "metadata": {
        "collapsed": true,
        "id": "7Pqym90jAUg5"
      },
      "outputs": [],
      "source": [
        "import random\n",
        "\n",
        "def choose_first():\n",
        "  p1 = input('Name of player 1:')\n",
        "  p2 = input('Name of player 2:')\n",
        "\n",
        "  first = random.randint(1,2)\n",
        "  if first == 1:\n",
        "    print(f\"{p1} will go first\")\n",
        "  else:\n",
        "    print(f\"{p2} will go first\")\n",
        "\n",
        "  return first"
      ]
    },
    {
      "cell_type": "code",
      "source": [],
      "metadata": {
        "id": "VjvE0D_xIZWk"
      },
      "execution_count": 54,
      "outputs": []
    },
    {
      "cell_type": "markdown",
      "metadata": {
        "id": "T8OLRejdAUg6"
      },
      "source": [
        "**Step 6: Write a function that returns a boolean indicating whether a space on the board is freely available.**"
      ]
    },
    {
      "cell_type": "code",
      "execution_count": 57,
      "metadata": {
        "collapsed": true,
        "id": "Oqp8Ruc3AUg6"
      },
      "outputs": [],
      "source": [
        "def space_check(board, position):\n",
        "  check = False\n",
        "  if board[position] == ' ':\n",
        "    check = True\n",
        "  \n",
        "  return check"
      ]
    },
    {
      "cell_type": "code",
      "source": [
        "test_board = ['#','O','O','O','O','X','O','X','O','X']\n",
        "space_check(test_board, 8)"
      ],
      "metadata": {
        "colab": {
          "base_uri": "https://localhost:8080/"
        },
        "id": "UmJ2hGfEJZqJ",
        "outputId": "6fa42347-8aab-4071-eddc-8cfe9f0ac678"
      },
      "execution_count": 61,
      "outputs": [
        {
          "output_type": "execute_result",
          "data": {
            "text/plain": [
              "False"
            ]
          },
          "metadata": {},
          "execution_count": 61
        }
      ]
    },
    {
      "cell_type": "markdown",
      "metadata": {
        "id": "WxwfqgYgAUg7"
      },
      "source": [
        "**Step 7: Write a function that checks if the board is full and returns a boolean value. True if full, False otherwise.**"
      ]
    },
    {
      "cell_type": "code",
      "execution_count": 63,
      "metadata": {
        "collapsed": true,
        "id": "daWUQoKqAUg7"
      },
      "outputs": [],
      "source": [
        "def full_board_check(board):\n",
        "  check = False\n",
        "  if ' ' not in board:\n",
        "    check = True\n",
        "  \n",
        "  return check"
      ]
    },
    {
      "cell_type": "code",
      "source": [
        "test_board = ['#','O','O','O','O','X','O','X','O',' ']\n",
        "full_board_check(test_board)"
      ],
      "metadata": {
        "id": "YLTwJBZeUEy2",
        "outputId": "2fa199da-ca1f-41f4-e16e-ed8033d5d64e",
        "colab": {
          "base_uri": "https://localhost:8080/"
        }
      },
      "execution_count": 65,
      "outputs": [
        {
          "output_type": "execute_result",
          "data": {
            "text/plain": [
              "False"
            ]
          },
          "metadata": {},
          "execution_count": 65
        }
      ]
    },
    {
      "cell_type": "markdown",
      "metadata": {
        "id": "lFVwJPDMAUg7"
      },
      "source": [
        "**Step 8: Write a function that asks for a player's next position (as a number 1-9) and then uses the function from step 6 to check if it's a free position. If it is, then return the position for later use.**"
      ]
    },
    {
      "cell_type": "code",
      "execution_count": 68,
      "metadata": {
        "collapsed": true,
        "id": "tuFTFWyqAUg7"
      },
      "outputs": [],
      "source": [
        "def player_choice(board):\n",
        "  position = 0\n",
        "  while position not in range(1,10):\n",
        "    position = int(input('Choose a valid position (1-9):'))\n",
        "    clear_output()\n",
        "  check = space_check(board, position)\n",
        "  return check\n"
      ]
    },
    {
      "cell_type": "code",
      "source": [
        "player_choice(test_board)"
      ],
      "metadata": {
        "id": "xzdJDAIMUpDF",
        "outputId": "6b7bb866-84ce-4426-c77b-c338b689c337",
        "colab": {
          "base_uri": "https://localhost:8080/"
        }
      },
      "execution_count": 70,
      "outputs": [
        {
          "output_type": "execute_result",
          "data": {
            "text/plain": [
              "True"
            ]
          },
          "metadata": {},
          "execution_count": 70
        }
      ]
    },
    {
      "cell_type": "markdown",
      "metadata": {
        "id": "XqtXB-RTAUg8"
      },
      "source": [
        "**Step 9: Write a function that asks the player if they want to play again and returns a boolean True if they do want to play again.**"
      ]
    },
    {
      "cell_type": "code",
      "execution_count": 79,
      "metadata": {
        "collapsed": true,
        "id": "xGkBed1zAUg8"
      },
      "outputs": [],
      "source": [
        "def replay():\n",
        "  play = False\n",
        "  p = input('Would you like to play again? (Y/N): ')\n",
        "  if p != 'N' and p != 'Y':\n",
        "    while p != 'N' and p != 'Y':  \n",
        "      p = input('Please put a valid answer (Y/N): ')\n",
        "      clear_output()\n",
        "  if p == 'Y':\n",
        "    play = True\n",
        "     \n",
        "  return play"
      ]
    },
    {
      "cell_type": "code",
      "source": [
        "replay()"
      ],
      "metadata": {
        "id": "Ag048gWcWM5i",
        "outputId": "eb427f3d-9025-4166-8542-d31326fc773b",
        "colab": {
          "base_uri": "https://localhost:8080/"
        }
      },
      "execution_count": 81,
      "outputs": [
        {
          "output_type": "execute_result",
          "data": {
            "text/plain": [
              "False"
            ]
          },
          "metadata": {},
          "execution_count": 81
        }
      ]
    },
    {
      "cell_type": "markdown",
      "metadata": {
        "collapsed": true,
        "id": "v15f3yYVAUg9"
      },
      "source": [
        "**Step 10: Here comes the hard part! Use while loops and the functions you've made to run the game!**"
      ]
    },
    {
      "cell_type": "code",
      "execution_count": 88,
      "metadata": {
        "collapsed": true,
        "colab": {
          "base_uri": "https://localhost:8080/",
          "height": 443
        },
        "id": "alb3MaFxAUg9",
        "outputId": "d4c15ddf-e326-4502-ba5b-76793b5ce536"
      },
      "outputs": [
        {
          "output_type": "stream",
          "name": "stdout",
          "text": [
            " | | \n",
            " | | \n",
            " | | \n"
          ]
        },
        {
          "output_type": "error",
          "ename": "KeyboardInterrupt",
          "evalue": "ignored",
          "traceback": [
            "\u001b[0;31m---------------------------------------------------------------------------\u001b[0m",
            "\u001b[0;31mKeyboardInterrupt\u001b[0m                         Traceback (most recent call last)",
            "\u001b[0;32m<ipython-input-88-d400b32afa3e>\u001b[0m in \u001b[0;36m<module>\u001b[0;34m\u001b[0m\n\u001b[1;32m      3\u001b[0m \u001b[0;32mwhile\u001b[0m \u001b[0;32mTrue\u001b[0m\u001b[0;34m:\u001b[0m\u001b[0;34m\u001b[0m\u001b[0;34m\u001b[0m\u001b[0m\n\u001b[1;32m      4\u001b[0m \u001b[0;34m\u001b[0m\u001b[0m\n\u001b[0;32m----> 5\u001b[0;31m   \u001b[0mchoose_first\u001b[0m\u001b[0;34m(\u001b[0m\u001b[0;34m)\u001b[0m\u001b[0;34m\u001b[0m\u001b[0;34m\u001b[0m\u001b[0m\n\u001b[0m\u001b[1;32m      6\u001b[0m \u001b[0;34m\u001b[0m\u001b[0m\n\u001b[1;32m      7\u001b[0m   \u001b[0mboard\u001b[0m \u001b[0;34m=\u001b[0m \u001b[0mreset_board\u001b[0m\u001b[0;34m(\u001b[0m\u001b[0;34m)\u001b[0m\u001b[0;34m\u001b[0m\u001b[0;34m\u001b[0m\u001b[0m\n",
            "\u001b[0;32m<ipython-input-53-b766ab7a79b8>\u001b[0m in \u001b[0;36mchoose_first\u001b[0;34m()\u001b[0m\n\u001b[1;32m      2\u001b[0m \u001b[0;34m\u001b[0m\u001b[0m\n\u001b[1;32m      3\u001b[0m \u001b[0;32mdef\u001b[0m \u001b[0mchoose_first\u001b[0m\u001b[0;34m(\u001b[0m\u001b[0;34m)\u001b[0m\u001b[0;34m:\u001b[0m\u001b[0;34m\u001b[0m\u001b[0;34m\u001b[0m\u001b[0m\n\u001b[0;32m----> 4\u001b[0;31m   \u001b[0mp1\u001b[0m \u001b[0;34m=\u001b[0m \u001b[0minput\u001b[0m\u001b[0;34m(\u001b[0m\u001b[0;34m'Name of player 1:'\u001b[0m\u001b[0;34m)\u001b[0m\u001b[0;34m\u001b[0m\u001b[0;34m\u001b[0m\u001b[0m\n\u001b[0m\u001b[1;32m      5\u001b[0m   \u001b[0mp2\u001b[0m \u001b[0;34m=\u001b[0m \u001b[0minput\u001b[0m\u001b[0;34m(\u001b[0m\u001b[0;34m'Name of player 2:'\u001b[0m\u001b[0;34m)\u001b[0m\u001b[0;34m\u001b[0m\u001b[0;34m\u001b[0m\u001b[0m\n\u001b[1;32m      6\u001b[0m \u001b[0;34m\u001b[0m\u001b[0m\n",
            "\u001b[0;32m/usr/local/lib/python3.8/dist-packages/ipykernel/kernelbase.py\u001b[0m in \u001b[0;36mraw_input\u001b[0;34m(self, prompt)\u001b[0m\n\u001b[1;32m    858\u001b[0m                 \u001b[0;34m\"raw_input was called, but this frontend does not support input requests.\"\u001b[0m\u001b[0;34m\u001b[0m\u001b[0;34m\u001b[0m\u001b[0m\n\u001b[1;32m    859\u001b[0m             )\n\u001b[0;32m--> 860\u001b[0;31m         return self._input_request(str(prompt),\n\u001b[0m\u001b[1;32m    861\u001b[0m             \u001b[0mself\u001b[0m\u001b[0;34m.\u001b[0m\u001b[0m_parent_ident\u001b[0m\u001b[0;34m,\u001b[0m\u001b[0;34m\u001b[0m\u001b[0;34m\u001b[0m\u001b[0m\n\u001b[1;32m    862\u001b[0m             \u001b[0mself\u001b[0m\u001b[0;34m.\u001b[0m\u001b[0m_parent_header\u001b[0m\u001b[0;34m,\u001b[0m\u001b[0;34m\u001b[0m\u001b[0;34m\u001b[0m\u001b[0m\n",
            "\u001b[0;32m/usr/local/lib/python3.8/dist-packages/ipykernel/kernelbase.py\u001b[0m in \u001b[0;36m_input_request\u001b[0;34m(self, prompt, ident, parent, password)\u001b[0m\n\u001b[1;32m    902\u001b[0m             \u001b[0;32mexcept\u001b[0m \u001b[0mKeyboardInterrupt\u001b[0m\u001b[0;34m:\u001b[0m\u001b[0;34m\u001b[0m\u001b[0;34m\u001b[0m\u001b[0m\n\u001b[1;32m    903\u001b[0m                 \u001b[0;31m# re-raise KeyboardInterrupt, to truncate traceback\u001b[0m\u001b[0;34m\u001b[0m\u001b[0;34m\u001b[0m\u001b[0;34m\u001b[0m\u001b[0m\n\u001b[0;32m--> 904\u001b[0;31m                 \u001b[0;32mraise\u001b[0m \u001b[0mKeyboardInterrupt\u001b[0m\u001b[0;34m(\u001b[0m\u001b[0;34m\"Interrupted by user\"\u001b[0m\u001b[0;34m)\u001b[0m \u001b[0;32mfrom\u001b[0m \u001b[0;32mNone\u001b[0m\u001b[0;34m\u001b[0m\u001b[0;34m\u001b[0m\u001b[0m\n\u001b[0m\u001b[1;32m    905\u001b[0m             \u001b[0;32mexcept\u001b[0m \u001b[0mException\u001b[0m \u001b[0;32mas\u001b[0m \u001b[0me\u001b[0m\u001b[0;34m:\u001b[0m\u001b[0;34m\u001b[0m\u001b[0;34m\u001b[0m\u001b[0m\n\u001b[1;32m    906\u001b[0m                 \u001b[0mself\u001b[0m\u001b[0;34m.\u001b[0m\u001b[0mlog\u001b[0m\u001b[0;34m.\u001b[0m\u001b[0mwarning\u001b[0m\u001b[0;34m(\u001b[0m\u001b[0;34m\"Invalid Message:\"\u001b[0m\u001b[0;34m,\u001b[0m \u001b[0mexc_info\u001b[0m\u001b[0;34m=\u001b[0m\u001b[0;32mTrue\u001b[0m\u001b[0;34m)\u001b[0m\u001b[0;34m\u001b[0m\u001b[0;34m\u001b[0m\u001b[0m\n",
            "\u001b[0;31mKeyboardInterrupt\u001b[0m: Interrupted by user"
          ]
        }
      ],
      "source": [
        "print('Welcome to Tic Tac Toe!')\n",
        "\n",
        "play = True\n",
        "\n",
        "while play:\n",
        "\n",
        "  # Select the players order\n",
        "  choose_first()\n",
        "\n",
        "  # Show the board and reset\n",
        "  board = reset_board()\n",
        "  display_board(board)\n",
        "\n",
        "  # Pick the marker of the 1st player\n",
        "  player1, player2 = player_input()\n",
        "\n",
        "  while full_board_check(board):\n",
        "    # Select the position of the 1st player \n",
        "    print('Player 1 choose')\n",
        "    position = player_choice(board)\n",
        "    place_marker(board, player1, position)\n",
        "\n",
        "    # Select the position of the 2nd player\n",
        "    print('Player 2 choose')\n",
        "    position = player_choice(board)\n",
        "    place_marker(board, player2, position)\n",
        "\n",
        "    # check if win every time\n",
        "\n",
        "    # check if the board is full\n",
        "\n",
        "    # ask if they want to replay\n",
        "\n",
        "\n",
        "    # Set the game up here\n",
        "    #pass\n",
        "\n",
        "    # while game_on:\n",
        "        #Player 1 Turn\n",
        "        \n",
        "        \n",
        "        # Player2's turn.\n",
        "            \n",
        "            #pass\n",
        "\n",
        "  if not replay():\n",
        "    play = False"
      ]
    },
    {
      "cell_type": "markdown",
      "metadata": {
        "collapsed": true,
        "id": "CkoJK8GJAUg-"
      },
      "source": [
        "## Good Job!"
      ]
    }
  ],
  "metadata": {
    "kernelspec": {
      "display_name": "Python 3",
      "language": "python",
      "name": "python3"
    },
    "language_info": {
      "codemirror_mode": {
        "name": "ipython",
        "version": 3
      },
      "file_extension": ".py",
      "mimetype": "text/x-python",
      "name": "python",
      "nbconvert_exporter": "python",
      "pygments_lexer": "ipython3",
      "version": "3.6.6"
    },
    "colab": {
      "provenance": []
    }
  },
  "nbformat": 4,
  "nbformat_minor": 0
}